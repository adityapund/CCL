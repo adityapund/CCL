{
 "cells": [
  {
   "cell_type": "code",
   "execution_count": 1,
   "id": "aec07d00",
   "metadata": {},
   "outputs": [
    {
     "name": "stdout",
     "output_type": "stream",
     "text": [
      "Requirement already satisfied: deap in c:\\users\\asus\\anaconda3\\lib\\site-packages (1.4.1)\n",
      "Requirement already satisfied: numpy in c:\\users\\asus\\anaconda3\\lib\\site-packages (from deap) (1.24.3)\n",
      "Note: you may need to restart the kernel to use updated packages.\n"
     ]
    }
   ],
   "source": [
    "pip install deap\n"
   ]
  },
  {
   "cell_type": "code",
   "execution_count": 2,
   "id": "325ca4bb",
   "metadata": {},
   "outputs": [],
   "source": [
    "import random \n",
    "from deap import base, creator, tools, algorithms \n",
    "# Define the evaluation function (minimize a simple mathematical function) \n",
    "def eval_func(individual): \n",
    " # Example evaluation function (minimize a quadratic function) \n",
    " return sum(x ** 2 for x in individual), \n",
    "# DEAP setup \n",
    "creator.create(\"FitnessMin\", base.Fitness, weights=(-1.0,)) \n",
    "creator.create(\"Individual\", list, fitness=creator.FitnessMin) \n",
    " \n",
    "toolbox = base.Toolbox() \n",
    "# Define attributes and individuals \n",
    "toolbox.register(\"attr_float\", random.uniform, -5.0, 5.0) # Example: Float values between -5 and 5 \n",
    "toolbox.register(\"individual\", tools.initRepeat, creator.Individual, toolbox.attr_float, n=3) # Example: 3-dimensional individual \n",
    "toolbox.register(\"population\", tools.initRepeat, list, toolbox.individual) \n",
    "# Evaluation function and genetic operators \n",
    "toolbox.register(\"evaluate\", eval_func) \n",
    "toolbox.register(\"mate\", tools.cxBlend, alpha=0.5) \n",
    "toolbox.register(\"mutate\", tools.mutGaussian, mu=0, sigma=1, indpb=0.2) \n",
    "toolbox.register(\"select\", tools.selTournament, tournsize=3) \n",
    "# Create population \n",
    "population = toolbox.population(n=50) \n",
    "# Genetic Algorithm parameters \n",
    "generations = 20 \n"
   ]
  },
  {
   "cell_type": "code",
   "execution_count": 4,
   "id": "2f63a9bf",
   "metadata": {},
   "outputs": [
    {
     "name": "stdout",
     "output_type": "stream",
     "text": [
      "Best individual: [0.0059730343611366825, 0.0012101713422150735, 0.004394651656449098]\n",
      "Best fitness: 5.645461733836893e-05\n"
     ]
    }
   ],
   "source": [
    "# Run the algorithm \n",
    "for gen in range(generations): \n",
    "    offspring = algorithms.varAnd(population, toolbox, cxpb=0.5, mutpb=0.1) \n",
    " \n",
    "    fits = toolbox.map(toolbox.evaluate, offspring) \n",
    "    for fit, ind in zip(fits, offspring): \n",
    "        ind.fitness.values = fit \n",
    "    population = toolbox.select(offspring, k=len(population)) \n",
    "\n",
    "    # Get the best individual after generations \n",
    "best_ind = tools.selBest(population, k=1)[0] \n",
    "best_fitness = best_ind.fitness.values[0] \n",
    " \n",
    "print(\"Best individual:\", best_ind) \n",
    "print(\"Best fitness:\", best_fitness) \n"
   ]
  },
  {
   "cell_type": "code",
   "execution_count": null,
   "id": "3b4c5bb7",
   "metadata": {},
   "outputs": [],
   "source": []
  }
 ],
 "metadata": {
  "kernelspec": {
   "display_name": "Python 3 (ipykernel)",
   "language": "python",
   "name": "python3"
  },
  "language_info": {
   "codemirror_mode": {
    "name": "ipython",
    "version": 3
   },
   "file_extension": ".py",
   "mimetype": "text/x-python",
   "name": "python",
   "nbconvert_exporter": "python",
   "pygments_lexer": "ipython3",
   "version": "3.11.5"
  }
 },
 "nbformat": 4,
 "nbformat_minor": 5
}
