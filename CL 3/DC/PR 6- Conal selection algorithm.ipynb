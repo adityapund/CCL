{
 "cells": [
  {
   "cell_type": "markdown",
   "id": "c23c9579-6553-41f2-9970-2b3f29beeda9",
   "metadata": {},
   "source": [
    "Implementation of Clonal selection algorithm using Python.\n"
   ]
  },
  {
   "cell_type": "code",
   "execution_count": 5,
   "id": "7cadabf6-9038-425b-9fe1-17a2a21a07f4",
   "metadata": {},
   "outputs": [],
   "source": [
    "import random\n",
    "import numpy as np"
   ]
  },
  {
   "cell_type": "code",
   "execution_count": 6,
   "id": "78170c35-f94c-420c-ae03-8268f130f555",
   "metadata": {},
   "outputs": [],
   "source": [
    "# Define objective function (fitness function)\n",
    "def objective_function(x):\n",
    "    # Example: Sphere function\n",
    "    return sum([i**2 for i in x])"
   ]
  },
  {
   "cell_type": "code",
   "execution_count": 7,
   "id": "8af86836-0ac6-4f3b-b4b0-e64a97a63556",
   "metadata": {},
   "outputs": [],
   "source": [
    "# Define Clonal Selection Algorithm\n",
    "def clonal_selection_algorithm(dimensions, num_candidates, num_clones, mutation_rate, max_iterations):\n",
    "    # Initialize population with random solutions\n",
    "    population = [np.random.uniform(-5, 5, dimensions) for _ in range(num_candidates)]\n",
    "    \n",
    "    for iteration in range(max_iterations):\n",
    "        # Evaluate fitness of each candidate solution\n",
    "        fitness = [objective_function(candidate) for candidate in population]\n",
    "        \n",
    "        # Sort candidates by fitness\n",
    "        sorted_indices = np.argsort(fitness)\n",
    "        population = [population[i] for i in sorted_indices]\n",
    "        \n",
    "        # Select top candidates for cloning\n",
    "        clones = population[:num_clones]\n",
    "        \n",
    "        # Clone candidates\n",
    "        clones = [clone for candidate in clones for clone in [candidate] * num_clones]\n",
    "        \n",
    "        # Mutate clones\n",
    "        for i in range(len(clones)):\n",
    "            for j in range(dimensions):\n",
    "                if random.random() < mutation_rate:\n",
    "                    clones[i][j] += random.uniform(-0.5, 0.5)  # Add small random value\n",
    "        \n",
    "        # Evaluate fitness of clones\n",
    "        clone_fitness = [objective_function(clone) for clone in clones]\n",
    "        \n",
    "        # Select top clones\n",
    "        population = [clones[i] for i in np.argsort(clone_fitness)[:num_candidates]]\n",
    "        \n",
    "        # Output best candidate solution in this iteration\n",
    "        print(f\"Iteration {iteration+1}: Best solution - {population[0]}, Fitness - {clone_fitness[0]}\")\n",
    "    \n",
    "    # Return the best solution found\n",
    "    best_solution = population[0]\n",
    "    best_fitness = objective_function(best_solution)\n",
    "    return best_solution, best_fitness"
   ]
  },
  {
   "cell_type": "code",
   "execution_count": 8,
   "id": "b81bd531-f38a-47fd-a096-12808e658acb",
   "metadata": {},
   "outputs": [],
   "source": [
    "# Example usage\n",
    "dimensions = 3\n",
    "num_candidates = 20\n",
    "num_clones = 10\n",
    "mutation_rate = 0.1\n",
    "max_iterations = 50"
   ]
  },
  {
   "cell_type": "code",
   "execution_count": 8,
   "id": "06a6e39e-032b-4476-ae6e-1700876afeab",
   "metadata": {},
   "outputs": [
    {
     "name": "stdout",
     "output_type": "stream",
     "text": [
      "Iteration 1: Best solution - [ 0.91494858  1.01400593 -2.39791813], Fitness - 7.615350268320803\n",
      "Iteration 2: Best solution - [ 1.60209206  2.59021467 -1.19909973], Fitness - 10.713751158144106\n",
      "Iteration 3: Best solution - [ 1.42312629  2.07922172 -1.69479632], Fitness - 9.220785966408673\n",
      "Iteration 4: Best solution - [ 0.96573011  2.27420406 -0.86828463], Fitness - 6.858556949621429\n",
      "Iteration 5: Best solution - [0.683616   2.83709384 0.3032284 ], Fitness - 8.608379741443851\n",
      "Iteration 6: Best solution - [3.43164546 2.68369373 1.659446  ], Fitness - 21.732163664663943\n",
      "Iteration 7: Best solution - [2.96446195 3.1890361  1.26491354], Fitness - 20.557992151840644\n",
      "Iteration 8: Best solution - [3.26072364 4.15791539 0.80838415], Fitness - 28.57406402067401\n",
      "Iteration 9: Best solution - [ 2.61482958  5.58271401 -1.78015004], Fitness - 41.17296368105042\n",
      "Iteration 10: Best solution - [ 2.47328579  6.31538949 -2.9963477 ], Fitness - 54.97938661818103\n",
      "Iteration 11: Best solution - [ 2.05972626  5.37735527 -4.37433476], Fitness - 52.29322650164934\n",
      "Iteration 12: Best solution - [ 2.12608908  5.63193699 -4.00519776], Fitness - 52.28057810825926\n",
      "Iteration 13: Best solution - [ 2.66368938  7.11195186 -3.15753106], Fitness - 67.64510270531488\n",
      "Iteration 14: Best solution - [ 2.2122908   8.36295808 -3.37704285], Fitness - 86.23771680291934\n",
      "Iteration 15: Best solution - [ 3.03750638  7.90192279 -3.72393677], Fitness - 85.5345338365582\n",
      "Iteration 16: Best solution - [ 2.21574144  8.60582485 -2.00216338], Fitness - 82.9783897154675\n",
      "Iteration 17: Best solution - [ 1.76279686  8.4072032  -1.89198129], Fitness - 77.36811170848237\n",
      "Iteration 18: Best solution - [ 1.27890636  8.73954307 -1.72413996], Fitness - 80.98787313718957\n",
      "Iteration 19: Best solution - [2.78114442 9.24174347 0.02398885], Fitness - 93.1451620818952\n",
      "Iteration 20: Best solution - [ 3.57039716  9.72833607 -0.71518503], Fitness - 107.8997481516875\n",
      "Iteration 21: Best solution - [ 6.83767656  8.68786652 -1.89595739], Fitness - 125.8274998606515\n",
      "Iteration 22: Best solution - [ 7.89746375  9.30444443 -2.91508646], Fitness - 157.44034889104051\n",
      "Iteration 23: Best solution - [ 8.93805805  8.93820034 -1.84808755], Fitness - 163.19573463434202\n",
      "Iteration 24: Best solution - [ 7.36642173  9.39837464 -1.79974764], Fitness - 145.83270660955677\n",
      "Iteration 25: Best solution - [ 7.02312633 10.16228756 -2.54298353], Fitness - 159.06315721955175\n",
      "Iteration 26: Best solution - [ 6.11983918 11.60160467 -4.277392  ], Fitness - 190.34574472944317\n",
      "Iteration 27: Best solution - [ 7.65631496 10.68429968 -5.2990351 ], Fitness - 200.85319152729213\n",
      "Iteration 28: Best solution - [ 6.7805429   9.39152375 -5.44355512], Fitness - 163.80877278578743\n",
      "Iteration 29: Best solution - [ 8.5459746   9.03896064 -5.47538902], Fitness - 184.7163761873154\n",
      "Iteration 30: Best solution - [ 7.95772484  9.87177115 -4.4042275 ], Fitness - 180.17447017028223\n",
      "Iteration 31: Best solution - [ 7.29444799 10.00182054 -4.45781148], Fitness - 173.1174689054609\n",
      "Iteration 32: Best solution - [ 8.45743249  9.98213384 -3.27837054], Fitness - 181.91887378249584\n",
      "Iteration 33: Best solution - [ 7.93419371  9.92799838 -4.24205523], Fitness - 179.51161417201558\n",
      "Iteration 34: Best solution - [ 9.60413951 10.72541441 -5.48086365], Fitness - 237.3138764141969\n",
      "Iteration 35: Best solution - [10.72283926 10.08601155 -4.6033547 ], Fitness - 237.8977853479663\n",
      "Iteration 36: Best solution - [ 9.6469934   7.77701448 -4.71346566], Fitness - 175.76319439629063\n",
      "Iteration 37: Best solution - [ 7.76267087  7.90223352 -5.98207565], Fitness - 158.48958280697758\n",
      "Iteration 38: Best solution - [ 7.29767659  6.76555379 -4.17621227], Fitness - 116.469550676761\n",
      "Iteration 39: Best solution - [ 6.64250521  6.50322157 -4.95803877], Fitness - 110.99691480969192\n",
      "Iteration 40: Best solution - [ 5.71004245  6.10204292 -5.68109324], Fitness - 102.11433303868967\n",
      "Iteration 41: Best solution - [ 5.11179322  6.58309134 -5.0636237 ], Fitness - 95.1078065280305\n",
      "Iteration 42: Best solution - [ 3.56350787  7.58868184 -5.22866295], Fitness - 97.62559662407713\n",
      "Iteration 43: Best solution - [ 3.23675993  5.62380744 -5.62390721], Fitness - 73.73215733614\n",
      "Iteration 44: Best solution - [ 3.72155283  5.73205796 -5.66965201], Fitness - 78.85139783845587\n",
      "Iteration 45: Best solution - [ 4.47868412  5.55526512 -4.81253004], Fitness - 74.08002741036972\n",
      "Iteration 46: Best solution - [ 5.36072266  4.88191934 -5.32270129], Fitness - 80.9016329090797\n",
      "Iteration 47: Best solution - [ 5.98664831  3.73983302 -4.53821888], Fitness - 70.42173964928165\n",
      "Iteration 48: Best solution - [ 6.72388055  3.44943585 -4.43404505], Fitness - 76.76993288291636\n",
      "Iteration 49: Best solution - [ 7.2419514   3.98077697 -4.78012762], Fitness - 91.14206540514779\n",
      "Iteration 50: Best solution - [ 7.42590928  4.35072837 -4.50884633], Fitness - 94.40266133134968\n",
      "Best solution found: [ 7.42590928  4.35072837 -4.50884633], Fitness: 94.40266133134968\n"
     ]
    }
   ],
   "source": [
    "best_solution, best_fitness = clonal_selection_algorithm(dimensions, num_candidates, num_clones, mutation_rate, max_iterations)\n",
    "print(f\"Best solution found: {best_solution}, Fitness: {best_fitness}\")"
   ]
  }
 ],
 "metadata": {
  "kernelspec": {
   "display_name": "Python 3 (ipykernel)",
   "language": "python",
   "name": "python3"
  },
  "language_info": {
   "codemirror_mode": {
    "name": "ipython",
    "version": 3
   },
   "file_extension": ".py",
   "mimetype": "text/x-python",
   "name": "python",
   "nbconvert_exporter": "python",
   "pygments_lexer": "ipython3",
   "version": "3.9.13"
  }
 },
 "nbformat": 4,
 "nbformat_minor": 5
}
