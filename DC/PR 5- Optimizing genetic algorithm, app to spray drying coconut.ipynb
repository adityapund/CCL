{
 "cells": [
  {
   "cell_type": "code",
   "execution_count": 1,
   "id": "a6a1f0d1-cc2d-49fc-8166-f57fe5c24c21",
   "metadata": {},
   "outputs": [
    {
     "name": "stdout",
     "output_type": "stream",
     "text": [
      "Collecting deap\n",
      "  Downloading deap-1.4.1.tar.gz (1.1 MB)\n",
      "     ---------------------------------------- 0.0/1.1 MB ? eta -:--:--\n",
      "     ---------------------------------------- 0.0/1.1 MB ? eta -:--:--\n",
      "     - -------------------------------------- 0.0/1.1 MB 495.5 kB/s eta 0:00:03\n",
      "     ------------- -------------------------- 0.4/1.1 MB 3.2 MB/s eta 0:00:01\n",
      "     ------------------------------------ --- 1.0/1.1 MB 6.2 MB/s eta 0:00:01\n",
      "     ---------------------------------------- 1.1/1.1 MB 6.2 MB/s eta 0:00:00\n",
      "  Preparing metadata (setup.py): started\n",
      "  Preparing metadata (setup.py): finished with status 'done'\n",
      "Requirement already satisfied: numpy in c:\\users\\asus\\anaconda3\\lib\\site-packages (from deap) (1.24.3)\n",
      "Building wheels for collected packages: deap\n",
      "  Building wheel for deap (setup.py): started\n",
      "  Building wheel for deap (setup.py): finished with status 'done'\n",
      "  Created wheel for deap: filename=deap-1.4.1-py3-none-any.whl size=97349 sha256=07fc9f65875120906f40ecea2ebd20fe582c15c91853cb3f1b2ac5483fee58d1\n",
      "  Stored in directory: c:\\users\\asus\\appdata\\local\\pip\\cache\\wheels\\f8\\64\\b8\\65eacfbff3024ae2e2beb22e691d5c8abb89fbd863b8049b5f\n",
      "Successfully built deap\n",
      "Installing collected packages: deap\n",
      "Successfully installed deap-1.4.1\n",
      "Note: you may need to restart the kernel to use updated packages.\n"
     ]
    }
   ],
   "source": [
    "pip install deap"
   ]
  },
  {
   "cell_type": "code",
   "execution_count": 2,
   "id": "6962e39d-22f9-45ef-ab34-db881ee03453",
   "metadata": {},
   "outputs": [],
   "source": [
    "import random\n",
    "from deap import base, creator, tools, algorithms\n"
   ]
  },
  {
   "cell_type": "code",
   "execution_count": 3,
   "id": "d34157de-6cd0-4c7c-899f-c7d2347ee8b3",
   "metadata": {},
   "outputs": [],
   "source": [
    "# Define evaluation function (this is a mock function, replace this with your actual evaluation function)\n",
    "def evaluate(individual):\n",
    "    # Here 'individual' represents the parameters for the neural network\n",
    "    # You'll need to replace this with your actual evaluation function that trains the neural network and evaluates its performance\n",
    "    # Return a fitness value (here, a random number is used as an example)\n",
    "    return random.random(),\n"
   ]
  },
  {
   "cell_type": "code",
   "execution_count": 4,
   "id": "52d2cc82-52fd-4d3e-9ff3-a423b33c6d9e",
   "metadata": {},
   "outputs": [],
   "source": [
    "# Define genetic algorithm parameters\n",
    "POPULATION_SIZE = 10\n",
    "GENERATIONS = 5\n"
   ]
  },
  {
   "cell_type": "code",
   "execution_count": 5,
   "id": "40399547-952d-4f2e-8038-fc221615b5a8",
   "metadata": {},
   "outputs": [],
   "source": [
    "# Create types for fitness and individuals in the genetic algorithm\n",
    "creator.create(\"FitnessMin\", base.Fitness, weights=(-1.0,))\n",
    "creator.create(\"Individual\", list, fitness=creator.FitnessMin)\n"
   ]
  },
  {
   "cell_type": "code",
   "execution_count": 6,
   "id": "58951679-c100-4059-bb38-a7f0f2cc74f8",
   "metadata": {},
   "outputs": [],
   "source": [
    "# Initialize toolbox\n",
    "toolbox = base.Toolbox()\n"
   ]
  },
  {
   "cell_type": "code",
   "execution_count": 7,
   "id": "99432d69-9dd0-478d-b3e8-391bb0040315",
   "metadata": {},
   "outputs": [],
   "source": [
    "# Define attributes and individuals\n",
    "toolbox.register(\"attr_neurons\", random.randint, 1, 100)  # Example: number of neurons\n",
    "toolbox.register(\"attr_layers\", random.randint, 1, 5)  # Example: number of layers\n",
    "toolbox.register(\"individual\", tools.initCycle, creator.Individual, (toolbox.attr_neurons, toolbox.attr_layers), n=1)\n",
    "toolbox.register(\"population\", tools.initRepeat, list, toolbox.individual)\n"
   ]
  },
  {
   "cell_type": "code",
   "execution_count": 8,
   "id": "59d65522-1824-4ed3-8678-7d057433c239",
   "metadata": {},
   "outputs": [],
   "source": [
    "# Genetic operators\n",
    "toolbox.register(\"evaluate\", evaluate)\n",
    "toolbox.register(\"mate\", tools.cxTwoPoint)\n",
    "toolbox.register(\"mutate\", tools.mutUniformInt, low=1, up=100, indpb=0.2)\n",
    "toolbox.register(\"select\", tools.selTournament, tournsize=3)\n"
   ]
  },
  {
   "cell_type": "code",
   "execution_count": 9,
   "id": "53cea13e-ef4a-4866-81d5-8284e68d4a03",
   "metadata": {},
   "outputs": [],
   "source": [
    "# Create initial population\n",
    "population = toolbox.population(n=POPULATION_SIZE)\n"
   ]
  },
  {
   "cell_type": "code",
   "execution_count": 10,
   "id": "5bd54aef-1503-44b9-907c-3ed2e70cd4dc",
   "metadata": {},
   "outputs": [],
   "source": [
    "# Run the genetic algorithm\n",
    "for gen in range(GENERATIONS):\n",
    "    offspring = algorithms.varAnd(population, toolbox, cxpb=0.5, mutpb=0.1)\n",
    "    \n",
    "    fitnesses = toolbox.map(toolbox.evaluate, offspring)\n",
    "    for ind, fit in zip(offspring, fitnesses):\n",
    "        ind.fitness.values = fit\n",
    "    \n",
    "    population = toolbox.select(offspring, k=len(population))\n"
   ]
  },
  {
   "cell_type": "code",
   "execution_count": 11,
   "id": "5a76fc96-88ba-43fa-8e27-ad0a1935693f",
   "metadata": {},
   "outputs": [],
   "source": [
    "# Get the best individual from the final population\n",
    "best_individual = tools.selBest(population, k=1)[0]\n",
    "best_params = best_individual\n"
   ]
  },
  {
   "cell_type": "code",
   "execution_count": 12,
   "id": "a4ffda36-717f-466c-9f74-cb12ebd628af",
   "metadata": {},
   "outputs": [
    {
     "name": "stdout",
     "output_type": "stream",
     "text": [
      "Best Parameters: [95, 51]\n"
     ]
    }
   ],
   "source": [
    "# Print the best parameters found\n",
    "print(\"Best Parameters:\", best_params)\n"
   ]
  },
  {
   "cell_type": "code",
   "execution_count": null,
   "id": "0ca64fdb-8af0-4499-9158-356cadbf3b30",
   "metadata": {},
   "outputs": [],
   "source": []
  }
 ],
 "metadata": {
  "kernelspec": {
   "display_name": "Python 3 (ipykernel)",
   "language": "python",
   "name": "python3"
  },
  "language_info": {
   "codemirror_mode": {
    "name": "ipython",
    "version": 3
   },
   "file_extension": ".py",
   "mimetype": "text/x-python",
   "name": "python",
   "nbconvert_exporter": "python",
   "pygments_lexer": "ipython3",
   "version": "3.11.5"
  }
 },
 "nbformat": 4,
 "nbformat_minor": 5
}
